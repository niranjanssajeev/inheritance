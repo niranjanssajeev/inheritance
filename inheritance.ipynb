{
  "nbformat": 4,
  "nbformat_minor": 0,
  "metadata": {
    "colab": {
      "provenance": [],
      "authorship_tag": "ABX9TyPP5WXpMeQhW2OwnuUXtCAk",
      "include_colab_link": true
    },
    "kernelspec": {
      "name": "python3",
      "display_name": "Python 3"
    },
    "language_info": {
      "name": "python"
    }
  },
  "cells": [
    {
      "cell_type": "markdown",
      "metadata": {
        "id": "view-in-github",
        "colab_type": "text"
      },
      "source": [
        "<a href=\"https://colab.research.google.com/github/niranjanssajeev/inheritance/blob/main/inheritance.ipynb\" target=\"_parent\"><img src=\"https://colab.research.google.com/assets/colab-badge.svg\" alt=\"Open In Colab\"/></a>"
      ]
    },
    {
      "cell_type": "code",
      "execution_count": 2,
      "metadata": {
        "id": "CWJD2nYmHwcC",
        "colab": {
          "base_uri": "https://localhost:8080/"
        },
        "outputId": "264f1704-edbd-41a6-a03f-d0e16c8890e6"
      },
      "outputs": [
        {
          "output_type": "stream",
          "name": "stdout",
          "text": [
            "📋 Classification Report:\n",
            "\n",
            "              precision    recall  f1-score   support\n",
            "\n",
            "           0       1.00      1.00      1.00        19\n",
            "           1       1.00      1.00      1.00        13\n",
            "           2       1.00      1.00      1.00        13\n",
            "\n",
            "    accuracy                           1.00        45\n",
            "   macro avg       1.00      1.00      1.00        45\n",
            "weighted avg       1.00      1.00      1.00        45\n",
            "\n"
          ]
        }
      ],
      "source": [
        "from sklearn.datasets import load_iris\n",
        "from sklearn.model_selection import train_test_split\n",
        "from sklearn.preprocessing import StandardScaler\n",
        "from sklearn.tree import DecisionTreeClassifier\n",
        "from sklearn.metrics import classification_report\n",
        "\n",
        "# Step 2: Data Loader Class\n",
        "class DataLoader:\n",
        "    \"\"\"Loads and splits the Iris dataset.\"\"\"\n",
        "    def __init__(self):\n",
        "        self.X, self.y = load_iris(return_X_y=True)\n",
        "\n",
        "    def split(self, test_size=0.3, random_state=42):\n",
        "        \"\"\"Splits the data into training and testing sets.\"\"\"\n",
        "        return train_test_split(self.X, self.y, test_size=test_size, random_state=random_state)\n",
        "\n",
        "# Step 3: Preprocessor Class\n",
        "class Preprocessor:\n",
        "    \"\"\"Scales the features using StandardScaler.\"\"\"\n",
        "    def __init__(self):\n",
        "        self.scaler = StandardScaler()\n",
        "\n",
        "    def fit_transform(self, X_train):\n",
        "        return self.scaler.fit_transform(X_train)\n",
        "\n",
        "    def transform(self, X_test):\n",
        "        return self.scaler.transform(X_test)\n",
        "\n",
        "# Step 4: Base ML Model Class\n",
        "class MLModel:\n",
        "    \"\"\"Base class for ML models.\"\"\"\n",
        "    def __init__(self):\n",
        "        self.model = None\n",
        "\n",
        "    def train(self, X_train, y_train):\n",
        "        self.model.fit(X_train, y_train)\n",
        "\n",
        "    def predict(self, X_test):\n",
        "        return self.model.predict(X_test)\n",
        "\n",
        "# Step 4.1: Derived Class for Decision Tree\n",
        "class DecisionTreeModel(MLModel):\n",
        "    def __init__(self):\n",
        "        super().__init__()\n",
        "        self.model = DecisionTreeClassifier()\n",
        "\n",
        "# Step 5: Evaluator Class\n",
        "class Evaluator:\n",
        "    def __init__(self, y_true, y_pred):\n",
        "        self.y_true = y_true\n",
        "        self.y_pred = y_pred\n",
        "\n",
        "    def report(self):\n",
        "        print(\"📋 Classification Report:\\n\")\n",
        "        print(classification_report(self.y_true, self.y_pred))\n",
        "\n",
        "# Step 6: ML Application Class\n",
        "class MLApplication:\n",
        "    def __init__(self):\n",
        "        self.loader = DataLoader()\n",
        "        self.preprocessor = Preprocessor()\n",
        "        self.model = DecisionTreeModel()\n",
        "\n",
        "    def run(self):\n",
        "        X_train, X_test, y_train, y_test = self.loader.split()\n",
        "        X_train_scaled = self.preprocessor.fit_transform(X_train)\n",
        "        X_test_scaled = self.preprocessor.transform(X_test)\n",
        "        self.model.train(X_train_scaled, y_train)\n",
        "        y_pred = self.model.predict(X_test_scaled)\n",
        "        evaluator = Evaluator(y_test, y_pred)\n",
        "        evaluator.report()\n",
        "\n",
        "# Step 7: Execute\n",
        "if __name__ == \"__main__\":\n",
        "    app = MLApplication()\n",
        "    app.run()\n"
      ]
    },
    {
      "cell_type": "code",
      "source": [],
      "metadata": {
        "id": "KN9o0-dWH1_h"
      },
      "execution_count": null,
      "outputs": []
    }
  ]
}